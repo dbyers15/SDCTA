{
 "cells": [
  {
   "cell_type": "code",
   "execution_count": 5,
   "metadata": {},
   "outputs": [],
   "source": [
    "import pandas as pd\n",
    "import numpy as np\n",
    "import xml.etree.ElementTree as ET\n",
    "import requests\n",
    "from bs4 import BeautifulSoup\n",
    "import time\n",
    "import lxml\n",
    "import re\n",
    "import os\n",
    "import zipfile"
   ]
  },
  {
   "cell_type": "markdown",
   "metadata": {},
   "source": [
    "# 990 Parser from IRS Year Indexer\n",
    "\n",
    "Last updated: 8/7/23 by Nadine Marcus"
   ]
  },
  {
   "cell_type": "markdown",
   "metadata": {},
   "source": [
    "### Methods"
   ]
  },
  {
   "cell_type": "markdown",
   "metadata": {},
   "source": [
    "`scrape_website(url, attempts=0)`\n",
    "- Takes a URL and returns the response object if successful. Retries three times on failure\n",
    "\n",
    "`info_grabber(fp, url=True)`\n",
    "- Takes the URL/filepath of an XML file. The `url` parameter indicates whether the given filepath is a URL or local\n",
    "- Returns a dictionary of the row information for section VIII (along with a couple other columns)\n",
    "- Older (prior to 2013) XML files have different tags and thus can't be read. Results in a row of all zeroes and `'Not Found'` in the `ba` column\n",
    "- Of successfully scraped columns, has ~1.5% error rate for rows (0.13% of cells are inaccurate), only in the `Fundraising Events` column due to inconsistent labeling in XMLs\n",
    "    - This error rate is lower than the human error rate\n",
    "- In 2013, they had a different way of tagging zip codes, so all 2013 zips will be 0\n",
    "\n",
    "`contact_grabber(fp, url=True)`\n",
    "- Returns a dataframe of each contact in the 990 form, according to section VII\n",
    "- Incomplete and edge cases aren't tested fully, as we didn't need the function.\n",
    "\n",
    "`get_xmls(ein)`\n",
    "- Takes the EIN of a company and returns a list of the URLs for each XML file that is linked on the ProPublica page for that given company\n",
    "\n",
    "`grabber(eins, verbose=False, clean=False)`\n",
    "- Takes a list of EINs and uses `get_xmls()` to find each XML file, then uses `info_grabber()` to scrape each XML for the relevant information.\n",
    "- Returns a pandas DataFrame, doesn't automatically save as csv.\n",
    "- Takes around 22 minutes on my laptop for 71 businesses\n",
    "- The `clean` parameter automatically cleans the dataframe by removing empty rows\n",
    "\n",
    "`find_errors(info)`\n",
    "- Data columns are supposed to add up to the total, if it doesn't this method will find it\n",
    "- Takes a dataframe of 990 rows from `grabber` and returns a tuple of incides that didn't properly grab all of the data\n",
    "    - Preferably indiced on `EIN_YEAR`\n",
    "    \n",
    "`extract_ein_number(xml_element)`\n",
    "- Data columns are supposed to add up to the total, if it doesn't this method will find it\n",
    "- Takes a dataframe of 990 rows from `grabber` and returns a tuple of incides that didn't properly grab all of the data\n",
    "    - Preferably indiced on `EIN_YEAR`"
   ]
  },
  {
   "cell_type": "markdown",
   "metadata": {},
   "source": [
    "#### `scrape_website`"
   ]
  },
  {
   "cell_type": "code",
   "execution_count": 29,
   "metadata": {},
   "outputs": [],
   "source": [
    "def scrape_website(url, attempts=0):\n",
    "    # Send GET request to the website\n",
    "    response = requests.get(url)\n",
    "    time.sleep(1)\n",
    "\n",
    "    # Check if the request was successful (status code 200)\n",
    "    if response.status_code == 200:\n",
    "        if attempts > 0:\n",
    "            print('Success')\n",
    "        return response\n",
    "    elif attempts < 3:\n",
    "        print(\"Error:\", response.status_code, \"Trying again.\")\n",
    "        time.sleep(1)\n",
    "        return scrape_website(url, attempts + 1)\n",
    "    else:\n",
    "        # Handle the request error\n",
    "        print(\"Error: \", response.status_code, 'Failed on:', url)\n",
    "        return None\n"
   ]
  },
  {
   "cell_type": "markdown",
   "metadata": {},
   "source": [
    "#### `ein_grabber`"
   ]
  },
  {
   "cell_type": "code",
   "execution_count": 6,
   "metadata": {},
   "outputs": [],
   "source": [
    "def ein_grabber(fp,url=False):\n",
    "    try:\n",
    "        with open(fp, 'r') as file:\n",
    "                xml = file.read()\n",
    "    except FileNotFoundError:\n",
    "        print(f\"File not found: {fp}\")\n",
    "        return dict()\n",
    "    if xml is None:\n",
    "        return dict()\n",
    "    \n",
    "    soup = BeautifulSoup(xml, 'xml')\n",
    "    return soup.find('EIN')"
   ]
  },
  {
   "cell_type": "markdown",
   "metadata": {},
   "source": [
    "#### `get_eins`"
   ]
  },
  {
   "cell_type": "code",
   "execution_count": 37,
   "metadata": {},
   "outputs": [],
   "source": [
    "def get_eins(folder_path):\n",
    "    eins = []\n",
    "    xml_files = [f for f in os.listdir(folder_path) if f.endswith('.xml')]\n",
    "    ind = 1\n",
    "    for xml_file in xml_files:\n",
    "        xml_path = os.path.join(folder_path, xml_file)\n",
    "        try:\n",
    "            with open(xml_path, 'r') as file:\n",
    "                xml_content = file.read()\n",
    "                ein = ein_grabber(xml_path)\n",
    "                eins.append(ein)\n",
    "                print(ind)\n",
    "        except FileNotFoundError as e:\n",
    "            print(f\"Error reading {xml_file}: {e}\")\n",
    "        except Exception as e:\n",
    "            print(f\"Error processing {xml_file}: {e}\")\n",
    "        ind+=1\n",
    "    return eins"
   ]
  },
  {
   "cell_type": "code",
   "execution_count": 1,
   "metadata": {},
   "outputs": [],
   "source": [
    "# folder_eins = get_eins(r\"C:\\Users\\nadin\\Downloads\\XML_files_irs\\2022_TEOS_XML_01B\")\n",
    "# folder_eins"
   ]
  },
  {
   "cell_type": "markdown",
   "metadata": {},
   "source": [
    "#### `extract_ein_number` : only use if files are downloaded locally"
   ]
  },
  {
   "cell_type": "code",
   "execution_count": 2,
   "metadata": {},
   "outputs": [],
   "source": [
    "def extract_ein_number(xml_element):\n",
    "    if xml_element is not None:\n",
    "        try:\n",
    "            return xml_element.text.strip(\"<EIN>\").strip(\"</EIN>\")\n",
    "        except Exception as e:\n",
    "            pass\n",
    "    return None\n",
    "\n",
    "# ein_numbers = list(map(extract_ein_number, folder_eins))\n",
    "# ein_numbers = [int(ein) for ein in ein_numbers if ein is not None]\n",
    "\n",
    "# ein_numbers"
   ]
  },
  {
   "cell_type": "markdown",
   "metadata": {},
   "source": [
    "#### `find_filename` : only use if you're finding the information through IRS site"
   ]
  },
  {
   "cell_type": "code",
   "execution_count": 15,
   "metadata": {},
   "outputs": [
    {
     "data": {
      "text/html": [
       "<div>\n",
       "<style scoped>\n",
       "    .dataframe tbody tr th:only-of-type {\n",
       "        vertical-align: middle;\n",
       "    }\n",
       "\n",
       "    .dataframe tbody tr th {\n",
       "        vertical-align: top;\n",
       "    }\n",
       "\n",
       "    .dataframe thead th {\n",
       "        text-align: right;\n",
       "    }\n",
       "</style>\n",
       "<table border=\"1\" class=\"dataframe\">\n",
       "  <thead>\n",
       "    <tr style=\"text-align: right;\">\n",
       "      <th></th>\n",
       "      <th>EIN</th>\n",
       "      <th>Year</th>\n",
       "      <th>TaxPayer</th>\n",
       "      <th>ObjectID</th>\n",
       "    </tr>\n",
       "  </thead>\n",
       "  <tbody>\n",
       "    <tr>\n",
       "      <th>0</th>\n",
       "      <td>480547708</td>\n",
       "      <td>2017</td>\n",
       "      <td>NATIONAL SOCIAL SCIENCE HONOR SOCIETY PI GAMMA MU</td>\n",
       "      <td>201613009349300846_public</td>\n",
       "    </tr>\n",
       "    <tr>\n",
       "      <th>1</th>\n",
       "      <td>480547708</td>\n",
       "      <td>2018</td>\n",
       "      <td>NATIONAL SOCIAL SCIENCE HONOR SOCIETY PI GAMMA MU</td>\n",
       "      <td>201810159349300801_public</td>\n",
       "    </tr>\n",
       "    <tr>\n",
       "      <th>2</th>\n",
       "      <td>480547708</td>\n",
       "      <td>2019</td>\n",
       "      <td>NATIONAL SOCIAL SCIENCE HONOR SOCIETY PI GAMMA MU</td>\n",
       "      <td>201940159349300724_public</td>\n",
       "    </tr>\n",
       "    <tr>\n",
       "      <th>3</th>\n",
       "      <td>480547708</td>\n",
       "      <td>2020</td>\n",
       "      <td>NATIONAL SOCIAL SCIENCE HONOR SOCIETY PI GAMMA MU</td>\n",
       "      <td>202020109349301112_public</td>\n",
       "    </tr>\n",
       "    <tr>\n",
       "      <th>4</th>\n",
       "      <td>480547708</td>\n",
       "      <td>2021</td>\n",
       "      <td>NATIONAL SOCIAL SCIENCE HONOR SOCIETY PI GAMMA MU</td>\n",
       "      <td>202130149349300138_public</td>\n",
       "    </tr>\n",
       "    <tr>\n",
       "      <th>5</th>\n",
       "      <td>480547708</td>\n",
       "      <td>2022</td>\n",
       "      <td>NATIONAL SOCIAL SCIENCE HONOR SOCIETY PI GAMMA MU</td>\n",
       "      <td>202230139349300723_public</td>\n",
       "    </tr>\n",
       "    <tr>\n",
       "      <th>6</th>\n",
       "      <td>480547708</td>\n",
       "      <td>2023</td>\n",
       "      <td>NATIONAL SOCIAL SCIENCE HONOR SOCIETY PI GAMMA MU</td>\n",
       "      <td>202300339349301850_public</td>\n",
       "    </tr>\n",
       "  </tbody>\n",
       "</table>\n",
       "</div>"
      ],
      "text/plain": [
       "         EIN  Year                                           TaxPayer  \\\n",
       "0  480547708  2017  NATIONAL SOCIAL SCIENCE HONOR SOCIETY PI GAMMA MU   \n",
       "1  480547708  2018  NATIONAL SOCIAL SCIENCE HONOR SOCIETY PI GAMMA MU   \n",
       "2  480547708  2019  NATIONAL SOCIAL SCIENCE HONOR SOCIETY PI GAMMA MU   \n",
       "3  480547708  2020  NATIONAL SOCIAL SCIENCE HONOR SOCIETY PI GAMMA MU   \n",
       "4  480547708  2021  NATIONAL SOCIAL SCIENCE HONOR SOCIETY PI GAMMA MU   \n",
       "5  480547708  2022  NATIONAL SOCIAL SCIENCE HONOR SOCIETY PI GAMMA MU   \n",
       "6  480547708  2023  NATIONAL SOCIAL SCIENCE HONOR SOCIETY PI GAMMA MU   \n",
       "\n",
       "                    ObjectID  \n",
       "0  201613009349300846_public  \n",
       "1  201810159349300801_public  \n",
       "2  201940159349300724_public  \n",
       "3  202020109349301112_public  \n",
       "4  202130149349300138_public  \n",
       "5  202230139349300723_public  \n",
       "6  202300339349301850_public  "
      ]
     },
     "execution_count": 15,
     "metadata": {},
     "output_type": "execute_result"
    }
   ],
   "source": [
    "def find_filename(eins):\n",
    "    years = [2017, 2018, 2019, 2020, 2021, 2022, 2023]\n",
    "    ein_data = pd.DataFrame(columns=['EIN', 'Year', 'TaxPayer', 'ObjectID'])\n",
    "    \n",
    "    for ein in eins:\n",
    "        for year in years:\n",
    "            index_csv = pd.read_csv(f\"index_{year}.csv\")\n",
    "            ein_ind = index_csv[index_csv['EIN'] == ein]\n",
    "            if not ein_ind.empty:\n",
    "                ein_num = ein_ind['EIN'].iloc[0]\n",
    "                \n",
    "                sub_date = ein_ind['SUB_DATE'].iloc[0]\n",
    "                if len(str(sub_date)) == 4:\n",
    "                    ein_year = sub_date\n",
    "                else:\n",
    "                    ein_year = pd.to_datetime(sub_date).year\n",
    "                taxpayer = ein_ind['TAXPAYER_NAME'].iloc[0]\n",
    "                objID = str(ein_ind['OBJECT_ID'].iloc[0]) + '_public'\n",
    "                ein_data = pd.concat([ein_data, pd.DataFrame({'EIN': [ein_num], 'Year': [ein_year], 'TaxPayer': [taxpayer], 'ObjectID': [objID]})], ignore_index=True)\n",
    "            \n",
    "    return ein_data\n",
    "\n",
    "result = find_filename([480547708])\n",
    "result"
   ]
  },
  {
   "cell_type": "markdown",
   "metadata": {},
   "source": [
    "#### `info_grabber`"
   ]
  },
  {
   "cell_type": "code",
   "execution_count": 30,
   "metadata": {},
   "outputs": [],
   "source": [
    "def info_grabber(fp, url=True, errors=False):\n",
    "    if url:\n",
    "        xml = scrape_website(fp)\n",
    "        xml.encoding = 'UTF-8'\n",
    "        xml = xml.text.strip()\n",
    "    else:\n",
    "        try:\n",
    "            with open(fp, 'r') as file:\n",
    "                xml = file.read()\n",
    "        except FileNotFoundError:\n",
    "            print(f\"File not found: {fp}\")\n",
    "            return dict()\n",
    "    if xml is None:\n",
    "        return dict()\n",
    "    \n",
    "    soup = BeautifulSoup(xml, 'xml')\n",
    "\n",
    "    row = dict()\n",
    "    row['ba'] = soup.find('BusinessName')\n",
    "    row['EIN'] = soup.find('EIN')\n",
    "    row['Tax Year'] = soup.find('TaxPeriodBeginDt')\n",
    "    row['Location (Zipcode)'] = soup.find('USAddress')\n",
    "    row['Federate Campaigns'] = soup.find('FederatedCampaignsAmt')\n",
    "    row['Membership Dues'] = soup.find('MembershipDuesAmt')\n",
    "    row['Fundraising Events'] = soup.find('z')\n",
    "    \n",
    "    row['Related Organizations'] = soup.find('RelatedOrganizationsAmt')\n",
    "    row['Government Grants'] = soup.find('GovernmentGrantsAmt')\n",
    "    row['All Other Contributions'] = soup.find('AllOtherContributionsAmt')\n",
    "    row['Noncash Contributions'] = soup.find('NoncashContributionsAmt')\n",
    "    row['Total'] = soup.find('TotalContributionsAmt')\n",
    "    # Can make default=0\n",
    "\n",
    "    if row['Location (Zipcode)'] is not None:\n",
    "        row['Location (Zipcode)'] = row['Location (Zipcode)'].find('ZIPCd')\n",
    "    else:\n",
    "        row['Location (Zipcode)'] = None\n",
    "\n",
    "    row = dict(map(lambda item: (item[0], item[1].text if item[1] is not None else None), row.items()))\n",
    "\n",
    "    if row['ba'] is not None:\n",
    "        row['ba'] = row['ba'].strip()\n",
    "    else:\n",
    "        row['ba'] = 'Not found'\n",
    "    if row['Tax Year'] is not None:\n",
    "        row['Tax Year'] = pd.Timestamp(row['Tax Year']).year\n",
    "    else:\n",
    "        row['Tax Year'] = np.nan\n",
    "    \n",
    "    if errors:\n",
    "        sumKeys = ['Federate Campaigns', 'Membership Dues', 'Related Organizations', 'Government Grants', 'All Other Contributions']\n",
    "        sumAmt = sum(float(row[key]) for key in sumKeys if key in row and row[key] is not None)\n",
    "        fundAmt_element = soup.find('FundraisingAmt')\n",
    "        fundAmt = int(fundAmt_element.text) if fundAmt_element is not None else 0\n",
    "        sumAmt += fundAmt\n",
    "\n",
    "        if sumAmt is None or row['Total'] is None:\n",
    "            pass\n",
    "        elif int(sumAmt) == int(row['Total']):\n",
    "            row['Fundraising Events'] = fundAmt\n",
    "        else:\n",
    "            pass\n",
    "\n",
    "    row = dict(map(lambda item: (item[0], item[1] if item[1] is not None else 0), row.items()))\n",
    "\n",
    "    return row\n"
   ]
  },
  {
   "cell_type": "markdown",
   "metadata": {},
   "source": [
    "#### `contact_grabber`"
   ]
  },
  {
   "cell_type": "markdown",
   "metadata": {},
   "source": [
    "Old, might not work"
   ]
  },
  {
   "cell_type": "code",
   "execution_count": 31,
   "metadata": {},
   "outputs": [],
   "source": [
    "def contact_grabber(fp, url=True):\n",
    "    '''\n",
    "    Return a dataframe of the important names and their positions in an organization for each year\n",
    "\n",
    "    :param fp: filepath of the xml file\n",
    "    :param url: Whether the fp is a url or not. Default = True\n",
    "    '''\n",
    "    if url:\n",
    "        xml = scrape_website(fp)\n",
    "    else:\n",
    "        xml = requests.get(fp)\n",
    "    if xml is None:\n",
    "        return dict()\n",
    "    xml.encoding = 'UTF-8'\n",
    "    xml = xml.text.strip()\n",
    "    soup = BeautifulSoup(xml, 'xml')\n",
    "\n",
    "    people = soup.find_all('Form990PartVIISectionAGrp')\n",
    "    names = [x.find('PersonNm').text for x in people if x.find('PersonNm') is not None]\n",
    "    titles = [x.find('TitleTxt').text for x in people if x.find('TitleTxt') is not None]\n",
    "    try:\n",
    "        organization = [soup.find('BusinessName').text.strip()] * len(names)\n",
    "    except AttributeError:\n",
    "        organization = ['Not found'] * len(names)\n",
    "    try:\n",
    "        year = [pd.Timestamp(soup.find('TaxPeriodBeginDt').text).year] * len(names)\n",
    "    except AttributeError:\n",
    "        year = [0] * len(names)\n",
    "        \n",
    "    return pd.DataFrame({'organization': organization, 'year': year, 'names': names, 'titles': titles})"
   ]
  },
  {
   "cell_type": "markdown",
   "metadata": {},
   "source": [
    "#### `get_xmls`"
   ]
  },
  {
   "cell_type": "code",
   "execution_count": 32,
   "metadata": {},
   "outputs": [],
   "source": [
    "def get_xmls(ein):\n",
    "    '''\n",
    "    Return a list of xml urls from ProRepublica based on an organization's EIN\n",
    "\n",
    "    :param ein: Employer Identification number as String or Int\n",
    "    '''\n",
    "    url = f'https://projects.propublica.org/nonprofits/organizations/{ein}'\n",
    "    html = scrape_website(url)\n",
    "    if html is None:\n",
    "        return []\n",
    "    soup = BeautifulSoup(html.text)\n",
    "    links = soup.find_all('a', class_='action xml')\n",
    "    base_url = 'https://projects.propublica.org'\n",
    "    # urls = [base_url + x.get('href') for x in links if x.text == '990']\n",
    "    urls = [x for x in soup.find_all(class_='action xml') if re.search(r'990\\b', x.text)]\n",
    "    urls = [base_url + x.get('href') if x.name == 'a' else base_url + x.select_one('select.action.xml option[data-href]').get('data-href') for x in urls]\n",
    "    return urls"
   ]
  },
  {
   "cell_type": "markdown",
   "metadata": {},
   "source": [
    "#### `grabber`"
   ]
  },
  {
   "cell_type": "code",
   "execution_count": 1,
   "metadata": {},
   "outputs": [],
   "source": [
    "def grabber(eins, verbose=False, clean=False, errors=False):\n",
    "    if type(eins) == int:\n",
    "        eins = [eins]\n",
    "    data = []\n",
    "    # contacts = pd.DataFrame()\n",
    "    overall_index = 0\n",
    "    for index, ein in enumerate(eins):\n",
    "        print(str(index) + (' / ') + str(len(eins)))\n",
    "        xmls = get_xmls(ein)\n",
    "        for xml in xmls:\n",
    "            if verbose:\n",
    "                print(f'{overall_index} {xml}')\n",
    "            if errors:\n",
    "                data.append(info_grabber(xml,url=False,errors=True))\n",
    "            else:\n",
    "                data.append(info_grabber(xml,url=False))\n",
    "            #contacts = pd.concat([contacts, contact_grabber(xml)])\n",
    "            overall_index += 1\n",
    "    print(str(len(eins)) + (' / ') + str(len(eins)))\n",
    "    info = pd.DataFrame(data)\n",
    "    if not clean:\n",
    "        return info\n",
    "\n",
    "    no_error = info.dropna().reset_index(drop=True)\n",
    "    no_error.loc[:, 'EIN':'Total'] = no_error.loc[:, 'EIN':'Total'].astype(int)\n",
    "    no_error.loc[:, 'EIN_YEAR'] = no_error['EIN'].astype(str) + '_' + no_error['Tax Year'].astype(str)\n",
    "    no_error = no_error.set_index('EIN_YEAR')\n",
    "\n",
    "    return no_error"
   ]
  },
  {
   "cell_type": "markdown",
   "metadata": {},
   "source": [
    "#### `find_errors`"
   ]
  },
  {
   "cell_type": "code",
   "execution_count": 34,
   "metadata": {},
   "outputs": [],
   "source": [
    "def find_errors(info):\n",
    "    '''\n",
    "    Takes a dataframe of 990 rows and returns a tuple of the indices where it failed to grab the data properly\n",
    "\n",
    "    :param info: The dataframe of 990 rows\n",
    "    '''\n",
    "    accurate = info[['Federate Campaigns', 'Membership Dues', 'Fundraising Events', 'Related Organizations', 'Government Grants', 'All Other Contributions']].sum(axis=1) == info['Total']\n",
    "    return tuple(accurate[~accurate].index)"
   ]
  },
  {
   "cell_type": "markdown",
   "metadata": {},
   "source": [
    "### Using the `grabber()` method"
   ]
  },
  {
   "cell_type": "markdown",
   "metadata": {},
   "source": [
    "`grabber()` takes a list of EINs. This was curated from the old \"990 Manual Pull\" spreadsheet by pasting and splitting the entire `EIN` column and putting it into a set."
   ]
  },
  {
   "cell_type": "code",
   "execution_count": 8,
   "metadata": {},
   "outputs": [],
   "source": [
    "all_eins = '''113723093\n",
    "113723093\n",
    "113723093\n",
    "113723093\n",
    "113723093\n",
    "237279074\n",
    "237279074\n",
    "237279074\n",
    "237279074\n",
    "237279074\n",
    "237334012\n",
    "237334012\n",
    "237334012\n",
    "237334012\n",
    "237334012\n",
    "261712580\n",
    "261712580\n",
    "261712580\n",
    "261712580\n",
    "261712580\n",
    "261712580\n",
    "330006089\n",
    "330006089\n",
    "330006089\n",
    "330006089\n",
    "330215585\n",
    "330215585\n",
    "330215585\n",
    "330215585\n",
    "330215585\n",
    "330317950\n",
    "330317950\n",
    "330317950\n",
    "330317950\n",
    "330433314\n",
    "330433314\n",
    "330433314\n",
    "330433314\n",
    "330433314\n",
    "330492304\n",
    "330492304\n",
    "330492304\n",
    "330492304\n",
    "330492304\n",
    "330496092\n",
    "330496092\n",
    "330496092\n",
    "330496092\n",
    "330623634\n",
    "330623634\n",
    "330623634\n",
    "330623634\n",
    "330623634\n",
    "331029843\n",
    "331029843\n",
    "331029843\n",
    "331029843\n",
    "331146733\n",
    "331146733\n",
    "331146733\n",
    "331146733\n",
    "465055513\n",
    "465055513\n",
    "465055513\n",
    "465055513\n",
    "942358632\n",
    "942358632\n",
    "942358632\n",
    "942358632\n",
    "942358632\n",
    "951644024\n",
    "951644024\n",
    "951644024\n",
    "951644024\n",
    "951869806\n",
    "951869806\n",
    "951869806\n",
    "951869806\n",
    "951869806\n",
    "951869806\n",
    "951874073\n",
    "951874073\n",
    "951874073\n",
    "951874073\n",
    "951874073\n",
    "951874073\n",
    "951944230\n",
    "951944230\n",
    "951944230\n",
    "951944230\n",
    "951944230\n",
    "952039198\n",
    "952039198\n",
    "952039198\n",
    "952039198\n",
    "952157559\n",
    "952157559\n",
    "952157559\n",
    "952157559\n",
    "952157559\n",
    "952648050\n",
    "952648050\n",
    "952648050\n",
    "952648050\n",
    "952648050\n",
    "952648050\n",
    "952653869\n",
    "952653869\n",
    "952653869\n",
    "952653869\n",
    "952653869\n",
    "952833205\n",
    "952833205\n",
    "952833205\n",
    "952833205\n",
    "952833205\n",
    "952850121\n",
    "952850121\n",
    "952850121\n",
    "952850121\n",
    "952850121\n",
    "952880426\n",
    "952880426\n",
    "952880426\n",
    "952880426\n",
    "952880426\n",
    "953244085\n",
    "953244085\n",
    "953244085\n",
    "953244085\n",
    "953244085\n",
    "953248148\n",
    "953248148\n",
    "953248148\n",
    "953248148\n",
    "953248148\n",
    "953302967\n",
    "953302967\n",
    "953302967\n",
    "953302967\n",
    "953302967\n",
    "953302967\n",
    "953315571\n",
    "953315571\n",
    "953315571\n",
    "953315571\n",
    "953315571\n",
    "953649525\n",
    "953649525\n",
    "953649525\n",
    "953649525\n",
    "956379598\n",
    "956379598\n",
    "956379598\n",
    "956379598\n",
    "953497926\n",
    "953497926\n",
    "953497926\n",
    "953497926\n",
    "953497926\n",
    "953497926\n",
    "953837714\n",
    "953837714\n",
    "953837714\n",
    "953837714\n",
    "953837714\n",
    "953140767\n",
    "953140767\n",
    "953140767\n",
    "953140767\n",
    "951648184\n",
    "951648184\n",
    "951648184\n",
    "951648184\n",
    "951648184\n",
    "952693142\n",
    "952693142\n",
    "952693142\n",
    "952693142\n",
    "952693142\n",
    "330217339\n",
    "330217339\n",
    "330217339\n",
    "330217339\n",
    "330217339\n",
    "330217339\n",
    "952794253\n",
    "952794253\n",
    "952794253\n",
    "952794253\n",
    "952794253\n",
    "952794253\n",
    "951945256\n",
    "951945256\n",
    "951945256\n",
    "951945256\n",
    "951945256\n",
    "270865318\n",
    "270865318\n",
    "270865318\n",
    "270865318\n",
    "270865318\n",
    "331146733\n",
    "331146733\n",
    "331146733\n",
    "331146733\n",
    "331146733\n",
    "821946283\n",
    "821946283\n",
    "263405689\n",
    "263405689\n",
    "263405689\n",
    "263405689\n",
    "263405689\n",
    "263405689\n",
    "330602842\n",
    "330602842\n",
    "330602842\n",
    "330602842\n",
    "330602842\n",
    "330902617\n",
    "330902617\n",
    "330902617\n",
    "330902617\n",
    "330902617\n",
    "952457354\n",
    "952457354\n",
    "952457354\n",
    "952457354\n",
    "952457354\n",
    "330008269\n",
    "330008269\n",
    "330008269\n",
    "330008269\n",
    "330008269\n",
    "953031682\n",
    "953031682\n",
    "953031682\n",
    "953031682\n",
    "953031682\n",
    "237161267\n",
    "237161267\n",
    "237161267\n",
    "237161267\n",
    "330497515\n",
    "330497515\n",
    "330497515\n",
    "330497515\n",
    "330497515\n",
    "953750738\n",
    "953750738\n",
    "953750738\n",
    "953750738\n",
    "953750738\n",
    "953368020\n",
    "953368020\n",
    "953368020\n",
    "953368020\n",
    "953368020\n",
    "953368020\n",
    "953798088\n",
    "953798088\n",
    "953798088\n",
    "953798088\n",
    "952111196\n",
    "952111196\n",
    "952111196\n",
    "952111196\n",
    "952949636\n",
    "952949636\n",
    "952949636\n",
    "952949636\n",
    "952949636\n",
    "330618893\n",
    "330618893\n",
    "953782164\n",
    "953782164\n",
    "953782164\n",
    "953782164\n",
    "953782164\n",
    "953782164\n",
    "272917644\n",
    "272917644\n",
    "272917644\n",
    "272917644\n",
    "273390797\n",
    "273390797\n",
    "273390797\n",
    "931008369\n",
    "931008369\n",
    "931008369\n",
    "931008369\n",
    "931008369\n",
    "952213995\n",
    "952213995\n",
    "952213995\n",
    "952213995\n",
    "562613191\n",
    "562613191\n",
    "562613191\n",
    "562613191\n",
    "562613191\n",
    "952422704\n",
    "952422704\n",
    "952422704\n",
    "952422704\n",
    "941676390\n",
    "941676390\n",
    "941676390\n",
    "941676390\n",
    "941676390\n",
    "550806460\n",
    "550806460\n",
    "550806460\n",
    "550806460\n",
    "550806460\n",
    "550806460\n",
    "330122462\n",
    "330122462\n",
    "330122462\n",
    "330122462\n",
    "270447059\n",
    "270447059\n",
    "270447059\n",
    "270447059\n",
    "270447059\n",
    "330210280\n",
    "822363154\n",
    "953138268\n",
    "953950196'''"
   ]
  },
  {
   "cell_type": "code",
   "execution_count": 9,
   "metadata": {},
   "outputs": [],
   "source": [
    "wrong_eins = '''952850121 562613191 952457354 330210280 952877102 330433314 204374795 330602842 465055513 263405689 263405689 330602842 330602842 330602842 330433314 951644024 330553621 952653869 330433314 941676390 953302967 941676390 941676390 941676390 465055513 330602842 952850121 330006089 952111196 330433314 562613191 952880426 953244085\n",
    "'''"
   ]
  },
  {
   "cell_type": "code",
   "execution_count": 10,
   "metadata": {},
   "outputs": [],
   "source": [
    "eins = list(set(all_eins.split()))\n",
    "# eins = list(set(wrong_eins.split()))"
   ]
  },
  {
   "cell_type": "markdown",
   "metadata": {},
   "source": [
    "<b>Warning</b>: `grabber()` takes a long time. The following cell will take about 20 minutes."
   ]
  },
  {
   "cell_type": "markdown",
   "metadata": {},
   "source": [
    "# 990 - Manual Pull Testing"
   ]
  },
  {
   "cell_type": "code",
   "execution_count": 11,
   "metadata": {},
   "outputs": [
    {
     "name": "stdout",
     "output_type": "stream",
     "text": [
      "0 / 71\n",
      "0 https://projects.propublica.org/nonprofits/download-xml?object_id=202210809349300966\n",
      "1 https://projects.propublica.org/nonprofits/download-xml?object_id=202121099349301417\n",
      "2 https://projects.propublica.org/nonprofits/download-xml?object_id=202010669349301306\n",
      "3 https://projects.propublica.org/nonprofits/download-xml?object_id=201842969349300634\n"
     ]
    },
    {
     "ename": "KeyboardInterrupt",
     "evalue": "",
     "output_type": "error",
     "traceback": [
      "\u001b[1;31m---------------------------------------------------------------------------\u001b[0m",
      "\u001b[1;31mKeyboardInterrupt\u001b[0m                         Traceback (most recent call last)",
      "Cell \u001b[1;32mIn[11], line 1\u001b[0m\n\u001b[1;32m----> 1\u001b[0m info990 \u001b[38;5;241m=\u001b[39m \u001b[43mgrabber\u001b[49m\u001b[43m(\u001b[49m\u001b[43meins\u001b[49m\u001b[43m,\u001b[49m\u001b[43m \u001b[49m\u001b[43mverbose\u001b[49m\u001b[38;5;241;43m=\u001b[39;49m\u001b[38;5;28;43;01mTrue\u001b[39;49;00m\u001b[43m)\u001b[49m\n",
      "Cell \u001b[1;32mIn[6], line 16\u001b[0m, in \u001b[0;36mgrabber\u001b[1;34m(eins, verbose, clean, errors)\u001b[0m\n\u001b[0;32m     14\u001b[0m     data\u001b[38;5;241m.\u001b[39mappend(info_grabber(xml,errors\u001b[38;5;241m=\u001b[39m\u001b[38;5;28;01mTrue\u001b[39;00m))\n\u001b[0;32m     15\u001b[0m \u001b[38;5;28;01melse\u001b[39;00m:\n\u001b[1;32m---> 16\u001b[0m     data\u001b[38;5;241m.\u001b[39mappend(\u001b[43minfo_grabber\u001b[49m\u001b[43m(\u001b[49m\u001b[43mxml\u001b[49m\u001b[43m)\u001b[49m)\n\u001b[0;32m     17\u001b[0m \u001b[38;5;66;03m#contacts = pd.concat([contacts, contact_grabber(xml)])\u001b[39;00m\n\u001b[0;32m     18\u001b[0m overall_index \u001b[38;5;241m+\u001b[39m\u001b[38;5;241m=\u001b[39m \u001b[38;5;241m1\u001b[39m\n",
      "Cell \u001b[1;32mIn[3], line 3\u001b[0m, in \u001b[0;36minfo_grabber\u001b[1;34m(fp, url, errors)\u001b[0m\n\u001b[0;32m      1\u001b[0m \u001b[38;5;28;01mdef\u001b[39;00m \u001b[38;5;21minfo_grabber\u001b[39m(fp, url\u001b[38;5;241m=\u001b[39m\u001b[38;5;28;01mTrue\u001b[39;00m, errors\u001b[38;5;241m=\u001b[39m\u001b[38;5;28;01mFalse\u001b[39;00m):\n\u001b[0;32m      2\u001b[0m     \u001b[38;5;28;01mif\u001b[39;00m url:\n\u001b[1;32m----> 3\u001b[0m         xml \u001b[38;5;241m=\u001b[39m \u001b[43mscrape_website\u001b[49m\u001b[43m(\u001b[49m\u001b[43mfp\u001b[49m\u001b[43m)\u001b[49m\n\u001b[0;32m      4\u001b[0m         xml\u001b[38;5;241m.\u001b[39mencoding \u001b[38;5;241m=\u001b[39m \u001b[38;5;124m'\u001b[39m\u001b[38;5;124mUTF-8\u001b[39m\u001b[38;5;124m'\u001b[39m\n\u001b[0;32m      5\u001b[0m         xml \u001b[38;5;241m=\u001b[39m xml\u001b[38;5;241m.\u001b[39mtext\u001b[38;5;241m.\u001b[39mstrip()\n",
      "Cell \u001b[1;32mIn[2], line 3\u001b[0m, in \u001b[0;36mscrape_website\u001b[1;34m(url, attempts)\u001b[0m\n\u001b[0;32m      1\u001b[0m \u001b[38;5;28;01mdef\u001b[39;00m \u001b[38;5;21mscrape_website\u001b[39m(url, attempts\u001b[38;5;241m=\u001b[39m\u001b[38;5;241m0\u001b[39m):\n\u001b[0;32m      2\u001b[0m     \u001b[38;5;66;03m# Send GET request to the website\u001b[39;00m\n\u001b[1;32m----> 3\u001b[0m     response \u001b[38;5;241m=\u001b[39m \u001b[43mrequests\u001b[49m\u001b[38;5;241;43m.\u001b[39;49m\u001b[43mget\u001b[49m\u001b[43m(\u001b[49m\u001b[43murl\u001b[49m\u001b[43m)\u001b[49m\n\u001b[0;32m      4\u001b[0m     time\u001b[38;5;241m.\u001b[39msleep(\u001b[38;5;241m1\u001b[39m)\n\u001b[0;32m      6\u001b[0m     \u001b[38;5;66;03m# Check if the request was successful (status code 200)\u001b[39;00m\n",
      "File \u001b[1;32m~\\AppData\\Local\\Programs\\Python\\Python311\\Lib\\site-packages\\requests\\api.py:73\u001b[0m, in \u001b[0;36mget\u001b[1;34m(url, params, **kwargs)\u001b[0m\n\u001b[0;32m     62\u001b[0m \u001b[38;5;28;01mdef\u001b[39;00m \u001b[38;5;21mget\u001b[39m(url, params\u001b[38;5;241m=\u001b[39m\u001b[38;5;28;01mNone\u001b[39;00m, \u001b[38;5;241m*\u001b[39m\u001b[38;5;241m*\u001b[39mkwargs):\n\u001b[0;32m     63\u001b[0m \u001b[38;5;250m    \u001b[39m\u001b[38;5;124mr\u001b[39m\u001b[38;5;124;03m\"\"\"Sends a GET request.\u001b[39;00m\n\u001b[0;32m     64\u001b[0m \n\u001b[0;32m     65\u001b[0m \u001b[38;5;124;03m    :param url: URL for the new :class:`Request` object.\u001b[39;00m\n\u001b[1;32m   (...)\u001b[0m\n\u001b[0;32m     70\u001b[0m \u001b[38;5;124;03m    :rtype: requests.Response\u001b[39;00m\n\u001b[0;32m     71\u001b[0m \u001b[38;5;124;03m    \"\"\"\u001b[39;00m\n\u001b[1;32m---> 73\u001b[0m     \u001b[38;5;28;01mreturn\u001b[39;00m \u001b[43mrequest\u001b[49m\u001b[43m(\u001b[49m\u001b[38;5;124;43m\"\u001b[39;49m\u001b[38;5;124;43mget\u001b[39;49m\u001b[38;5;124;43m\"\u001b[39;49m\u001b[43m,\u001b[49m\u001b[43m \u001b[49m\u001b[43murl\u001b[49m\u001b[43m,\u001b[49m\u001b[43m \u001b[49m\u001b[43mparams\u001b[49m\u001b[38;5;241;43m=\u001b[39;49m\u001b[43mparams\u001b[49m\u001b[43m,\u001b[49m\u001b[43m \u001b[49m\u001b[38;5;241;43m*\u001b[39;49m\u001b[38;5;241;43m*\u001b[39;49m\u001b[43mkwargs\u001b[49m\u001b[43m)\u001b[49m\n",
      "File \u001b[1;32m~\\AppData\\Local\\Programs\\Python\\Python311\\Lib\\site-packages\\requests\\api.py:59\u001b[0m, in \u001b[0;36mrequest\u001b[1;34m(method, url, **kwargs)\u001b[0m\n\u001b[0;32m     55\u001b[0m \u001b[38;5;66;03m# By using the 'with' statement we are sure the session is closed, thus we\u001b[39;00m\n\u001b[0;32m     56\u001b[0m \u001b[38;5;66;03m# avoid leaving sockets open which can trigger a ResourceWarning in some\u001b[39;00m\n\u001b[0;32m     57\u001b[0m \u001b[38;5;66;03m# cases, and look like a memory leak in others.\u001b[39;00m\n\u001b[0;32m     58\u001b[0m \u001b[38;5;28;01mwith\u001b[39;00m sessions\u001b[38;5;241m.\u001b[39mSession() \u001b[38;5;28;01mas\u001b[39;00m session:\n\u001b[1;32m---> 59\u001b[0m     \u001b[38;5;28;01mreturn\u001b[39;00m \u001b[43msession\u001b[49m\u001b[38;5;241;43m.\u001b[39;49m\u001b[43mrequest\u001b[49m\u001b[43m(\u001b[49m\u001b[43mmethod\u001b[49m\u001b[38;5;241;43m=\u001b[39;49m\u001b[43mmethod\u001b[49m\u001b[43m,\u001b[49m\u001b[43m \u001b[49m\u001b[43murl\u001b[49m\u001b[38;5;241;43m=\u001b[39;49m\u001b[43murl\u001b[49m\u001b[43m,\u001b[49m\u001b[43m \u001b[49m\u001b[38;5;241;43m*\u001b[39;49m\u001b[38;5;241;43m*\u001b[39;49m\u001b[43mkwargs\u001b[49m\u001b[43m)\u001b[49m\n",
      "File \u001b[1;32m~\\AppData\\Local\\Programs\\Python\\Python311\\Lib\\site-packages\\requests\\sessions.py:589\u001b[0m, in \u001b[0;36mSession.request\u001b[1;34m(self, method, url, params, data, headers, cookies, files, auth, timeout, allow_redirects, proxies, hooks, stream, verify, cert, json)\u001b[0m\n\u001b[0;32m    584\u001b[0m send_kwargs \u001b[38;5;241m=\u001b[39m {\n\u001b[0;32m    585\u001b[0m     \u001b[38;5;124m\"\u001b[39m\u001b[38;5;124mtimeout\u001b[39m\u001b[38;5;124m\"\u001b[39m: timeout,\n\u001b[0;32m    586\u001b[0m     \u001b[38;5;124m\"\u001b[39m\u001b[38;5;124mallow_redirects\u001b[39m\u001b[38;5;124m\"\u001b[39m: allow_redirects,\n\u001b[0;32m    587\u001b[0m }\n\u001b[0;32m    588\u001b[0m send_kwargs\u001b[38;5;241m.\u001b[39mupdate(settings)\n\u001b[1;32m--> 589\u001b[0m resp \u001b[38;5;241m=\u001b[39m \u001b[38;5;28;43mself\u001b[39;49m\u001b[38;5;241;43m.\u001b[39;49m\u001b[43msend\u001b[49m\u001b[43m(\u001b[49m\u001b[43mprep\u001b[49m\u001b[43m,\u001b[49m\u001b[43m \u001b[49m\u001b[38;5;241;43m*\u001b[39;49m\u001b[38;5;241;43m*\u001b[39;49m\u001b[43msend_kwargs\u001b[49m\u001b[43m)\u001b[49m\n\u001b[0;32m    591\u001b[0m \u001b[38;5;28;01mreturn\u001b[39;00m resp\n",
      "File \u001b[1;32m~\\AppData\\Local\\Programs\\Python\\Python311\\Lib\\site-packages\\requests\\sessions.py:725\u001b[0m, in \u001b[0;36mSession.send\u001b[1;34m(self, request, **kwargs)\u001b[0m\n\u001b[0;32m    722\u001b[0m \u001b[38;5;28;01mif\u001b[39;00m allow_redirects:\n\u001b[0;32m    723\u001b[0m     \u001b[38;5;66;03m# Redirect resolving generator.\u001b[39;00m\n\u001b[0;32m    724\u001b[0m     gen \u001b[38;5;241m=\u001b[39m \u001b[38;5;28mself\u001b[39m\u001b[38;5;241m.\u001b[39mresolve_redirects(r, request, \u001b[38;5;241m*\u001b[39m\u001b[38;5;241m*\u001b[39mkwargs)\n\u001b[1;32m--> 725\u001b[0m     history \u001b[38;5;241m=\u001b[39m \u001b[43m[\u001b[49m\u001b[43mresp\u001b[49m\u001b[43m \u001b[49m\u001b[38;5;28;43;01mfor\u001b[39;49;00m\u001b[43m \u001b[49m\u001b[43mresp\u001b[49m\u001b[43m \u001b[49m\u001b[38;5;129;43;01min\u001b[39;49;00m\u001b[43m \u001b[49m\u001b[43mgen\u001b[49m\u001b[43m]\u001b[49m\n\u001b[0;32m    726\u001b[0m \u001b[38;5;28;01melse\u001b[39;00m:\n\u001b[0;32m    727\u001b[0m     history \u001b[38;5;241m=\u001b[39m []\n",
      "File \u001b[1;32m~\\AppData\\Local\\Programs\\Python\\Python311\\Lib\\site-packages\\requests\\sessions.py:725\u001b[0m, in \u001b[0;36m<listcomp>\u001b[1;34m(.0)\u001b[0m\n\u001b[0;32m    722\u001b[0m \u001b[38;5;28;01mif\u001b[39;00m allow_redirects:\n\u001b[0;32m    723\u001b[0m     \u001b[38;5;66;03m# Redirect resolving generator.\u001b[39;00m\n\u001b[0;32m    724\u001b[0m     gen \u001b[38;5;241m=\u001b[39m \u001b[38;5;28mself\u001b[39m\u001b[38;5;241m.\u001b[39mresolve_redirects(r, request, \u001b[38;5;241m*\u001b[39m\u001b[38;5;241m*\u001b[39mkwargs)\n\u001b[1;32m--> 725\u001b[0m     history \u001b[38;5;241m=\u001b[39m [resp \u001b[38;5;28;01mfor\u001b[39;00m resp \u001b[38;5;129;01min\u001b[39;00m gen]\n\u001b[0;32m    726\u001b[0m \u001b[38;5;28;01melse\u001b[39;00m:\n\u001b[0;32m    727\u001b[0m     history \u001b[38;5;241m=\u001b[39m []\n",
      "File \u001b[1;32m~\\AppData\\Local\\Programs\\Python\\Python311\\Lib\\site-packages\\requests\\sessions.py:266\u001b[0m, in \u001b[0;36mSessionRedirectMixin.resolve_redirects\u001b[1;34m(self, resp, req, stream, timeout, verify, cert, proxies, yield_requests, **adapter_kwargs)\u001b[0m\n\u001b[0;32m    263\u001b[0m     \u001b[38;5;28;01myield\u001b[39;00m req\n\u001b[0;32m    264\u001b[0m \u001b[38;5;28;01melse\u001b[39;00m:\n\u001b[1;32m--> 266\u001b[0m     resp \u001b[38;5;241m=\u001b[39m \u001b[38;5;28;43mself\u001b[39;49m\u001b[38;5;241;43m.\u001b[39;49m\u001b[43msend\u001b[49m\u001b[43m(\u001b[49m\n\u001b[0;32m    267\u001b[0m \u001b[43m        \u001b[49m\u001b[43mreq\u001b[49m\u001b[43m,\u001b[49m\n\u001b[0;32m    268\u001b[0m \u001b[43m        \u001b[49m\u001b[43mstream\u001b[49m\u001b[38;5;241;43m=\u001b[39;49m\u001b[43mstream\u001b[49m\u001b[43m,\u001b[49m\n\u001b[0;32m    269\u001b[0m \u001b[43m        \u001b[49m\u001b[43mtimeout\u001b[49m\u001b[38;5;241;43m=\u001b[39;49m\u001b[43mtimeout\u001b[49m\u001b[43m,\u001b[49m\n\u001b[0;32m    270\u001b[0m \u001b[43m        \u001b[49m\u001b[43mverify\u001b[49m\u001b[38;5;241;43m=\u001b[39;49m\u001b[43mverify\u001b[49m\u001b[43m,\u001b[49m\n\u001b[0;32m    271\u001b[0m \u001b[43m        \u001b[49m\u001b[43mcert\u001b[49m\u001b[38;5;241;43m=\u001b[39;49m\u001b[43mcert\u001b[49m\u001b[43m,\u001b[49m\n\u001b[0;32m    272\u001b[0m \u001b[43m        \u001b[49m\u001b[43mproxies\u001b[49m\u001b[38;5;241;43m=\u001b[39;49m\u001b[43mproxies\u001b[49m\u001b[43m,\u001b[49m\n\u001b[0;32m    273\u001b[0m \u001b[43m        \u001b[49m\u001b[43mallow_redirects\u001b[49m\u001b[38;5;241;43m=\u001b[39;49m\u001b[38;5;28;43;01mFalse\u001b[39;49;00m\u001b[43m,\u001b[49m\n\u001b[0;32m    274\u001b[0m \u001b[43m        \u001b[49m\u001b[38;5;241;43m*\u001b[39;49m\u001b[38;5;241;43m*\u001b[39;49m\u001b[43madapter_kwargs\u001b[49m\u001b[43m,\u001b[49m\n\u001b[0;32m    275\u001b[0m \u001b[43m    \u001b[49m\u001b[43m)\u001b[49m\n\u001b[0;32m    277\u001b[0m     extract_cookies_to_jar(\u001b[38;5;28mself\u001b[39m\u001b[38;5;241m.\u001b[39mcookies, prepared_request, resp\u001b[38;5;241m.\u001b[39mraw)\n\u001b[0;32m    279\u001b[0m     \u001b[38;5;66;03m# extract redirect url, if any, for the next loop\u001b[39;00m\n",
      "File \u001b[1;32m~\\AppData\\Local\\Programs\\Python\\Python311\\Lib\\site-packages\\requests\\sessions.py:703\u001b[0m, in \u001b[0;36mSession.send\u001b[1;34m(self, request, **kwargs)\u001b[0m\n\u001b[0;32m    700\u001b[0m start \u001b[38;5;241m=\u001b[39m preferred_clock()\n\u001b[0;32m    702\u001b[0m \u001b[38;5;66;03m# Send the request\u001b[39;00m\n\u001b[1;32m--> 703\u001b[0m r \u001b[38;5;241m=\u001b[39m \u001b[43madapter\u001b[49m\u001b[38;5;241;43m.\u001b[39;49m\u001b[43msend\u001b[49m\u001b[43m(\u001b[49m\u001b[43mrequest\u001b[49m\u001b[43m,\u001b[49m\u001b[43m \u001b[49m\u001b[38;5;241;43m*\u001b[39;49m\u001b[38;5;241;43m*\u001b[39;49m\u001b[43mkwargs\u001b[49m\u001b[43m)\u001b[49m\n\u001b[0;32m    705\u001b[0m \u001b[38;5;66;03m# Total elapsed time of the request (approximately)\u001b[39;00m\n\u001b[0;32m    706\u001b[0m elapsed \u001b[38;5;241m=\u001b[39m preferred_clock() \u001b[38;5;241m-\u001b[39m start\n",
      "File \u001b[1;32m~\\AppData\\Local\\Programs\\Python\\Python311\\Lib\\site-packages\\requests\\adapters.py:486\u001b[0m, in \u001b[0;36mHTTPAdapter.send\u001b[1;34m(self, request, stream, timeout, verify, cert, proxies)\u001b[0m\n\u001b[0;32m    483\u001b[0m     timeout \u001b[38;5;241m=\u001b[39m TimeoutSauce(connect\u001b[38;5;241m=\u001b[39mtimeout, read\u001b[38;5;241m=\u001b[39mtimeout)\n\u001b[0;32m    485\u001b[0m \u001b[38;5;28;01mtry\u001b[39;00m:\n\u001b[1;32m--> 486\u001b[0m     resp \u001b[38;5;241m=\u001b[39m \u001b[43mconn\u001b[49m\u001b[38;5;241;43m.\u001b[39;49m\u001b[43murlopen\u001b[49m\u001b[43m(\u001b[49m\n\u001b[0;32m    487\u001b[0m \u001b[43m        \u001b[49m\u001b[43mmethod\u001b[49m\u001b[38;5;241;43m=\u001b[39;49m\u001b[43mrequest\u001b[49m\u001b[38;5;241;43m.\u001b[39;49m\u001b[43mmethod\u001b[49m\u001b[43m,\u001b[49m\n\u001b[0;32m    488\u001b[0m \u001b[43m        \u001b[49m\u001b[43murl\u001b[49m\u001b[38;5;241;43m=\u001b[39;49m\u001b[43murl\u001b[49m\u001b[43m,\u001b[49m\n\u001b[0;32m    489\u001b[0m \u001b[43m        \u001b[49m\u001b[43mbody\u001b[49m\u001b[38;5;241;43m=\u001b[39;49m\u001b[43mrequest\u001b[49m\u001b[38;5;241;43m.\u001b[39;49m\u001b[43mbody\u001b[49m\u001b[43m,\u001b[49m\n\u001b[0;32m    490\u001b[0m \u001b[43m        \u001b[49m\u001b[43mheaders\u001b[49m\u001b[38;5;241;43m=\u001b[39;49m\u001b[43mrequest\u001b[49m\u001b[38;5;241;43m.\u001b[39;49m\u001b[43mheaders\u001b[49m\u001b[43m,\u001b[49m\n\u001b[0;32m    491\u001b[0m \u001b[43m        \u001b[49m\u001b[43mredirect\u001b[49m\u001b[38;5;241;43m=\u001b[39;49m\u001b[38;5;28;43;01mFalse\u001b[39;49;00m\u001b[43m,\u001b[49m\n\u001b[0;32m    492\u001b[0m \u001b[43m        \u001b[49m\u001b[43massert_same_host\u001b[49m\u001b[38;5;241;43m=\u001b[39;49m\u001b[38;5;28;43;01mFalse\u001b[39;49;00m\u001b[43m,\u001b[49m\n\u001b[0;32m    493\u001b[0m \u001b[43m        \u001b[49m\u001b[43mpreload_content\u001b[49m\u001b[38;5;241;43m=\u001b[39;49m\u001b[38;5;28;43;01mFalse\u001b[39;49;00m\u001b[43m,\u001b[49m\n\u001b[0;32m    494\u001b[0m \u001b[43m        \u001b[49m\u001b[43mdecode_content\u001b[49m\u001b[38;5;241;43m=\u001b[39;49m\u001b[38;5;28;43;01mFalse\u001b[39;49;00m\u001b[43m,\u001b[49m\n\u001b[0;32m    495\u001b[0m \u001b[43m        \u001b[49m\u001b[43mretries\u001b[49m\u001b[38;5;241;43m=\u001b[39;49m\u001b[38;5;28;43mself\u001b[39;49m\u001b[38;5;241;43m.\u001b[39;49m\u001b[43mmax_retries\u001b[49m\u001b[43m,\u001b[49m\n\u001b[0;32m    496\u001b[0m \u001b[43m        \u001b[49m\u001b[43mtimeout\u001b[49m\u001b[38;5;241;43m=\u001b[39;49m\u001b[43mtimeout\u001b[49m\u001b[43m,\u001b[49m\n\u001b[0;32m    497\u001b[0m \u001b[43m        \u001b[49m\u001b[43mchunked\u001b[49m\u001b[38;5;241;43m=\u001b[39;49m\u001b[43mchunked\u001b[49m\u001b[43m,\u001b[49m\n\u001b[0;32m    498\u001b[0m \u001b[43m    \u001b[49m\u001b[43m)\u001b[49m\n\u001b[0;32m    500\u001b[0m \u001b[38;5;28;01mexcept\u001b[39;00m (ProtocolError, \u001b[38;5;167;01mOSError\u001b[39;00m) \u001b[38;5;28;01mas\u001b[39;00m err:\n\u001b[0;32m    501\u001b[0m     \u001b[38;5;28;01mraise\u001b[39;00m \u001b[38;5;167;01mConnectionError\u001b[39;00m(err, request\u001b[38;5;241m=\u001b[39mrequest)\n",
      "File \u001b[1;32m~\\AppData\\Local\\Programs\\Python\\Python311\\Lib\\site-packages\\urllib3\\connectionpool.py:714\u001b[0m, in \u001b[0;36mHTTPConnectionPool.urlopen\u001b[1;34m(self, method, url, body, headers, retries, redirect, assert_same_host, timeout, pool_timeout, release_conn, chunked, body_pos, **response_kw)\u001b[0m\n\u001b[0;32m    711\u001b[0m     \u001b[38;5;28mself\u001b[39m\u001b[38;5;241m.\u001b[39m_prepare_proxy(conn)\n\u001b[0;32m    713\u001b[0m \u001b[38;5;66;03m# Make the request on the httplib connection object.\u001b[39;00m\n\u001b[1;32m--> 714\u001b[0m httplib_response \u001b[38;5;241m=\u001b[39m \u001b[38;5;28;43mself\u001b[39;49m\u001b[38;5;241;43m.\u001b[39;49m\u001b[43m_make_request\u001b[49m\u001b[43m(\u001b[49m\n\u001b[0;32m    715\u001b[0m \u001b[43m    \u001b[49m\u001b[43mconn\u001b[49m\u001b[43m,\u001b[49m\n\u001b[0;32m    716\u001b[0m \u001b[43m    \u001b[49m\u001b[43mmethod\u001b[49m\u001b[43m,\u001b[49m\n\u001b[0;32m    717\u001b[0m \u001b[43m    \u001b[49m\u001b[43murl\u001b[49m\u001b[43m,\u001b[49m\n\u001b[0;32m    718\u001b[0m \u001b[43m    \u001b[49m\u001b[43mtimeout\u001b[49m\u001b[38;5;241;43m=\u001b[39;49m\u001b[43mtimeout_obj\u001b[49m\u001b[43m,\u001b[49m\n\u001b[0;32m    719\u001b[0m \u001b[43m    \u001b[49m\u001b[43mbody\u001b[49m\u001b[38;5;241;43m=\u001b[39;49m\u001b[43mbody\u001b[49m\u001b[43m,\u001b[49m\n\u001b[0;32m    720\u001b[0m \u001b[43m    \u001b[49m\u001b[43mheaders\u001b[49m\u001b[38;5;241;43m=\u001b[39;49m\u001b[43mheaders\u001b[49m\u001b[43m,\u001b[49m\n\u001b[0;32m    721\u001b[0m \u001b[43m    \u001b[49m\u001b[43mchunked\u001b[49m\u001b[38;5;241;43m=\u001b[39;49m\u001b[43mchunked\u001b[49m\u001b[43m,\u001b[49m\n\u001b[0;32m    722\u001b[0m \u001b[43m\u001b[49m\u001b[43m)\u001b[49m\n\u001b[0;32m    724\u001b[0m \u001b[38;5;66;03m# If we're going to release the connection in ``finally:``, then\u001b[39;00m\n\u001b[0;32m    725\u001b[0m \u001b[38;5;66;03m# the response doesn't need to know about the connection. Otherwise\u001b[39;00m\n\u001b[0;32m    726\u001b[0m \u001b[38;5;66;03m# it will also try to release it and we'll have a double-release\u001b[39;00m\n\u001b[0;32m    727\u001b[0m \u001b[38;5;66;03m# mess.\u001b[39;00m\n\u001b[0;32m    728\u001b[0m response_conn \u001b[38;5;241m=\u001b[39m conn \u001b[38;5;28;01mif\u001b[39;00m \u001b[38;5;129;01mnot\u001b[39;00m release_conn \u001b[38;5;28;01melse\u001b[39;00m \u001b[38;5;28;01mNone\u001b[39;00m\n",
      "File \u001b[1;32m~\\AppData\\Local\\Programs\\Python\\Python311\\Lib\\site-packages\\urllib3\\connectionpool.py:466\u001b[0m, in \u001b[0;36mHTTPConnectionPool._make_request\u001b[1;34m(self, conn, method, url, timeout, chunked, **httplib_request_kw)\u001b[0m\n\u001b[0;32m    461\u001b[0m             httplib_response \u001b[38;5;241m=\u001b[39m conn\u001b[38;5;241m.\u001b[39mgetresponse()\n\u001b[0;32m    462\u001b[0m         \u001b[38;5;28;01mexcept\u001b[39;00m \u001b[38;5;167;01mBaseException\u001b[39;00m \u001b[38;5;28;01mas\u001b[39;00m e:\n\u001b[0;32m    463\u001b[0m             \u001b[38;5;66;03m# Remove the TypeError from the exception chain in\u001b[39;00m\n\u001b[0;32m    464\u001b[0m             \u001b[38;5;66;03m# Python 3 (including for exceptions like SystemExit).\u001b[39;00m\n\u001b[0;32m    465\u001b[0m             \u001b[38;5;66;03m# Otherwise it looks like a bug in the code.\u001b[39;00m\n\u001b[1;32m--> 466\u001b[0m             \u001b[43msix\u001b[49m\u001b[38;5;241;43m.\u001b[39;49m\u001b[43mraise_from\u001b[49m\u001b[43m(\u001b[49m\u001b[43me\u001b[49m\u001b[43m,\u001b[49m\u001b[43m \u001b[49m\u001b[38;5;28;43;01mNone\u001b[39;49;00m\u001b[43m)\u001b[49m\n\u001b[0;32m    467\u001b[0m \u001b[38;5;28;01mexcept\u001b[39;00m (SocketTimeout, BaseSSLError, SocketError) \u001b[38;5;28;01mas\u001b[39;00m e:\n\u001b[0;32m    468\u001b[0m     \u001b[38;5;28mself\u001b[39m\u001b[38;5;241m.\u001b[39m_raise_timeout(err\u001b[38;5;241m=\u001b[39me, url\u001b[38;5;241m=\u001b[39murl, timeout_value\u001b[38;5;241m=\u001b[39mread_timeout)\n",
      "File \u001b[1;32m<string>:3\u001b[0m, in \u001b[0;36mraise_from\u001b[1;34m(value, from_value)\u001b[0m\n",
      "File \u001b[1;32m~\\AppData\\Local\\Programs\\Python\\Python311\\Lib\\site-packages\\urllib3\\connectionpool.py:461\u001b[0m, in \u001b[0;36mHTTPConnectionPool._make_request\u001b[1;34m(self, conn, method, url, timeout, chunked, **httplib_request_kw)\u001b[0m\n\u001b[0;32m    458\u001b[0m \u001b[38;5;28;01mexcept\u001b[39;00m \u001b[38;5;167;01mTypeError\u001b[39;00m:\n\u001b[0;32m    459\u001b[0m     \u001b[38;5;66;03m# Python 3\u001b[39;00m\n\u001b[0;32m    460\u001b[0m     \u001b[38;5;28;01mtry\u001b[39;00m:\n\u001b[1;32m--> 461\u001b[0m         httplib_response \u001b[38;5;241m=\u001b[39m \u001b[43mconn\u001b[49m\u001b[38;5;241;43m.\u001b[39;49m\u001b[43mgetresponse\u001b[49m\u001b[43m(\u001b[49m\u001b[43m)\u001b[49m\n\u001b[0;32m    462\u001b[0m     \u001b[38;5;28;01mexcept\u001b[39;00m \u001b[38;5;167;01mBaseException\u001b[39;00m \u001b[38;5;28;01mas\u001b[39;00m e:\n\u001b[0;32m    463\u001b[0m         \u001b[38;5;66;03m# Remove the TypeError from the exception chain in\u001b[39;00m\n\u001b[0;32m    464\u001b[0m         \u001b[38;5;66;03m# Python 3 (including for exceptions like SystemExit).\u001b[39;00m\n\u001b[0;32m    465\u001b[0m         \u001b[38;5;66;03m# Otherwise it looks like a bug in the code.\u001b[39;00m\n\u001b[0;32m    466\u001b[0m         six\u001b[38;5;241m.\u001b[39mraise_from(e, \u001b[38;5;28;01mNone\u001b[39;00m)\n",
      "File \u001b[1;32m~\\AppData\\Local\\Programs\\Python\\Python311\\Lib\\http\\client.py:1378\u001b[0m, in \u001b[0;36mHTTPConnection.getresponse\u001b[1;34m(self)\u001b[0m\n\u001b[0;32m   1376\u001b[0m \u001b[38;5;28;01mtry\u001b[39;00m:\n\u001b[0;32m   1377\u001b[0m     \u001b[38;5;28;01mtry\u001b[39;00m:\n\u001b[1;32m-> 1378\u001b[0m         \u001b[43mresponse\u001b[49m\u001b[38;5;241;43m.\u001b[39;49m\u001b[43mbegin\u001b[49m\u001b[43m(\u001b[49m\u001b[43m)\u001b[49m\n\u001b[0;32m   1379\u001b[0m     \u001b[38;5;28;01mexcept\u001b[39;00m \u001b[38;5;167;01mConnectionError\u001b[39;00m:\n\u001b[0;32m   1380\u001b[0m         \u001b[38;5;28mself\u001b[39m\u001b[38;5;241m.\u001b[39mclose()\n",
      "File \u001b[1;32m~\\AppData\\Local\\Programs\\Python\\Python311\\Lib\\http\\client.py:318\u001b[0m, in \u001b[0;36mHTTPResponse.begin\u001b[1;34m(self)\u001b[0m\n\u001b[0;32m    316\u001b[0m \u001b[38;5;66;03m# read until we get a non-100 response\u001b[39;00m\n\u001b[0;32m    317\u001b[0m \u001b[38;5;28;01mwhile\u001b[39;00m \u001b[38;5;28;01mTrue\u001b[39;00m:\n\u001b[1;32m--> 318\u001b[0m     version, status, reason \u001b[38;5;241m=\u001b[39m \u001b[38;5;28;43mself\u001b[39;49m\u001b[38;5;241;43m.\u001b[39;49m\u001b[43m_read_status\u001b[49m\u001b[43m(\u001b[49m\u001b[43m)\u001b[49m\n\u001b[0;32m    319\u001b[0m     \u001b[38;5;28;01mif\u001b[39;00m status \u001b[38;5;241m!=\u001b[39m CONTINUE:\n\u001b[0;32m    320\u001b[0m         \u001b[38;5;28;01mbreak\u001b[39;00m\n",
      "File \u001b[1;32m~\\AppData\\Local\\Programs\\Python\\Python311\\Lib\\http\\client.py:279\u001b[0m, in \u001b[0;36mHTTPResponse._read_status\u001b[1;34m(self)\u001b[0m\n\u001b[0;32m    278\u001b[0m \u001b[38;5;28;01mdef\u001b[39;00m \u001b[38;5;21m_read_status\u001b[39m(\u001b[38;5;28mself\u001b[39m):\n\u001b[1;32m--> 279\u001b[0m     line \u001b[38;5;241m=\u001b[39m \u001b[38;5;28mstr\u001b[39m(\u001b[38;5;28mself\u001b[39m\u001b[38;5;241m.\u001b[39mfp\u001b[38;5;241m.\u001b[39mreadline(_MAXLINE \u001b[38;5;241m+\u001b[39m \u001b[38;5;241m1\u001b[39m), \u001b[38;5;124m\"\u001b[39m\u001b[38;5;124miso-8859-1\u001b[39m\u001b[38;5;124m\"\u001b[39m)\n\u001b[0;32m    280\u001b[0m     \u001b[38;5;28;01mif\u001b[39;00m \u001b[38;5;28mlen\u001b[39m(line) \u001b[38;5;241m>\u001b[39m _MAXLINE:\n\u001b[0;32m    281\u001b[0m         \u001b[38;5;28;01mraise\u001b[39;00m LineTooLong(\u001b[38;5;124m\"\u001b[39m\u001b[38;5;124mstatus line\u001b[39m\u001b[38;5;124m\"\u001b[39m)\n",
      "File \u001b[1;32m~\\AppData\\Local\\Programs\\Python\\Python311\\Lib\\socket.py:706\u001b[0m, in \u001b[0;36mSocketIO.readinto\u001b[1;34m(self, b)\u001b[0m\n\u001b[0;32m    704\u001b[0m \u001b[38;5;28;01mwhile\u001b[39;00m \u001b[38;5;28;01mTrue\u001b[39;00m:\n\u001b[0;32m    705\u001b[0m     \u001b[38;5;28;01mtry\u001b[39;00m:\n\u001b[1;32m--> 706\u001b[0m         \u001b[38;5;28;01mreturn\u001b[39;00m \u001b[38;5;28;43mself\u001b[39;49m\u001b[38;5;241;43m.\u001b[39;49m\u001b[43m_sock\u001b[49m\u001b[38;5;241;43m.\u001b[39;49m\u001b[43mrecv_into\u001b[49m\u001b[43m(\u001b[49m\u001b[43mb\u001b[49m\u001b[43m)\u001b[49m\n\u001b[0;32m    707\u001b[0m     \u001b[38;5;28;01mexcept\u001b[39;00m timeout:\n\u001b[0;32m    708\u001b[0m         \u001b[38;5;28mself\u001b[39m\u001b[38;5;241m.\u001b[39m_timeout_occurred \u001b[38;5;241m=\u001b[39m \u001b[38;5;28;01mTrue\u001b[39;00m\n",
      "File \u001b[1;32m~\\AppData\\Local\\Programs\\Python\\Python311\\Lib\\ssl.py:1278\u001b[0m, in \u001b[0;36mSSLSocket.recv_into\u001b[1;34m(self, buffer, nbytes, flags)\u001b[0m\n\u001b[0;32m   1274\u001b[0m     \u001b[38;5;28;01mif\u001b[39;00m flags \u001b[38;5;241m!=\u001b[39m \u001b[38;5;241m0\u001b[39m:\n\u001b[0;32m   1275\u001b[0m         \u001b[38;5;28;01mraise\u001b[39;00m \u001b[38;5;167;01mValueError\u001b[39;00m(\n\u001b[0;32m   1276\u001b[0m           \u001b[38;5;124m\"\u001b[39m\u001b[38;5;124mnon-zero flags not allowed in calls to recv_into() on \u001b[39m\u001b[38;5;132;01m%s\u001b[39;00m\u001b[38;5;124m\"\u001b[39m \u001b[38;5;241m%\u001b[39m\n\u001b[0;32m   1277\u001b[0m           \u001b[38;5;28mself\u001b[39m\u001b[38;5;241m.\u001b[39m\u001b[38;5;18m__class__\u001b[39m)\n\u001b[1;32m-> 1278\u001b[0m     \u001b[38;5;28;01mreturn\u001b[39;00m \u001b[38;5;28;43mself\u001b[39;49m\u001b[38;5;241;43m.\u001b[39;49m\u001b[43mread\u001b[49m\u001b[43m(\u001b[49m\u001b[43mnbytes\u001b[49m\u001b[43m,\u001b[49m\u001b[43m \u001b[49m\u001b[43mbuffer\u001b[49m\u001b[43m)\u001b[49m\n\u001b[0;32m   1279\u001b[0m \u001b[38;5;28;01melse\u001b[39;00m:\n\u001b[0;32m   1280\u001b[0m     \u001b[38;5;28;01mreturn\u001b[39;00m \u001b[38;5;28msuper\u001b[39m()\u001b[38;5;241m.\u001b[39mrecv_into(buffer, nbytes, flags)\n",
      "File \u001b[1;32m~\\AppData\\Local\\Programs\\Python\\Python311\\Lib\\ssl.py:1134\u001b[0m, in \u001b[0;36mSSLSocket.read\u001b[1;34m(self, len, buffer)\u001b[0m\n\u001b[0;32m   1132\u001b[0m \u001b[38;5;28;01mtry\u001b[39;00m:\n\u001b[0;32m   1133\u001b[0m     \u001b[38;5;28;01mif\u001b[39;00m buffer \u001b[38;5;129;01mis\u001b[39;00m \u001b[38;5;129;01mnot\u001b[39;00m \u001b[38;5;28;01mNone\u001b[39;00m:\n\u001b[1;32m-> 1134\u001b[0m         \u001b[38;5;28;01mreturn\u001b[39;00m \u001b[38;5;28;43mself\u001b[39;49m\u001b[38;5;241;43m.\u001b[39;49m\u001b[43m_sslobj\u001b[49m\u001b[38;5;241;43m.\u001b[39;49m\u001b[43mread\u001b[49m\u001b[43m(\u001b[49m\u001b[38;5;28;43mlen\u001b[39;49m\u001b[43m,\u001b[49m\u001b[43m \u001b[49m\u001b[43mbuffer\u001b[49m\u001b[43m)\u001b[49m\n\u001b[0;32m   1135\u001b[0m     \u001b[38;5;28;01melse\u001b[39;00m:\n\u001b[0;32m   1136\u001b[0m         \u001b[38;5;28;01mreturn\u001b[39;00m \u001b[38;5;28mself\u001b[39m\u001b[38;5;241m.\u001b[39m_sslobj\u001b[38;5;241m.\u001b[39mread(\u001b[38;5;28mlen\u001b[39m)\n",
      "\u001b[1;31mKeyboardInterrupt\u001b[0m: "
     ]
    }
   ],
   "source": [
    "info990 = grabber(eins, verbose=True)"
   ]
  },
  {
   "cell_type": "markdown",
   "metadata": {},
   "source": [
    "### Checking the missing cells"
   ]
  },
  {
   "cell_type": "markdown",
   "metadata": {},
   "source": [
    "The following two cells should both be 1.0.\n",
    "\n",
    "The first checks the conditional probability that if the name is not found in a row, the tax year wasn't found.\n",
    "\n",
    "The second checks the inverse conditional probability. Sometimes, if the request attempt tried and failed three times, the row will be entirely empty, where the name is `''` and not `'Not Found'`"
   ]
  },
  {
   "cell_type": "code",
   "execution_count": null,
   "metadata": {},
   "outputs": [],
   "source": [
    "# Every time the name isn't found, nothing is found\n",
    "info990.loc[info990['ba'] == 'Not found']['Tax Year'].isna().mean()"
   ]
  },
  {
   "cell_type": "code",
   "execution_count": null,
   "metadata": {},
   "outputs": [],
   "source": [
    "# And every time the tax year isn't found the name isn't found\n",
    "(info990[['ba', 'Tax Year']].loc[info990['Tax Year'].isna()]['ba'] == 'Not found').mean()"
   ]
  },
  {
   "cell_type": "markdown",
   "metadata": {},
   "source": [
    "This cell indicates how many XML files failed to be accessed"
   ]
  },
  {
   "cell_type": "code",
   "execution_count": null,
   "metadata": {},
   "outputs": [],
   "source": [
    "info990['ba'].isna().sum()"
   ]
  },
  {
   "cell_type": "markdown",
   "metadata": {},
   "source": [
    "If the following cell returns 0.0, that indicates that every time the tax year is missing, every single financial cell is zero. All of these rows can be dropped and no information is lost."
   ]
  },
  {
   "cell_type": "code",
   "execution_count": null,
   "metadata": {},
   "outputs": [],
   "source": [
    "info990.loc[info990['Tax Year'].isna(), 'Federate Campaigns':].sum(axis=1).sum()"
   ]
  },
  {
   "cell_type": "markdown",
   "metadata": {},
   "source": [
    "### Cleaning the raw information"
   ]
  },
  {
   "cell_type": "markdown",
   "metadata": {},
   "source": [
    "Assuming the prior three checks are all adequate, we can drop rows with any nan values."
   ]
  },
  {
   "cell_type": "code",
   "execution_count": null,
   "metadata": {},
   "outputs": [],
   "source": [
    "no_error = info990.dropna().reset_index(drop=True)\n",
    "no_error.loc[:, 'EIN':'Total'] = no_error.loc[:, 'EIN':'Total'].astype(int)\n",
    "no_error.loc[:, 'EIN_YEAR'] = no_error['EIN'].astype(str) + '_' + no_error['Tax Year'].astype(str)\n",
    "no_error = no_error.set_index('EIN_YEAR')"
   ]
  },
  {
   "cell_type": "markdown",
   "metadata": {},
   "source": [
    "### Export here!"
   ]
  },
  {
   "cell_type": "markdown",
   "metadata": {},
   "source": [
    "<b>REMEMBER TO EXPORT</b>\n",
    "\n",
    "`no_error` is the cleaned dataframe\n",
    "\n",
    "`info990` is the raw dataframe with missing rows"
   ]
  },
  {
   "cell_type": "code",
   "execution_count": null,
   "metadata": {},
   "outputs": [],
   "source": [
    " no_error.to_csv('no_errors.csv')"
   ]
  },
  {
   "cell_type": "code",
   "execution_count": null,
   "metadata": {},
   "outputs": [],
   "source": [
    " info990.to_csv('full_table.csv')"
   ]
  },
  {
   "cell_type": "markdown",
   "metadata": {},
   "source": [
    "The following line appends the rows to the bottom of the existing dataframe titled `'no_errors.csv'` instead.\n",
    "\n",
    "It creates a new CSV and it is recommended to rename it back to `no_errors.csv` in the case it is exported successfully"
   ]
  },
  {
   "cell_type": "code",
   "execution_count": null,
   "metadata": {},
   "outputs": [],
   "source": [
    "extended = pd.concat([pd.read_csv('no_errors.csv'), no_error]).reset_index(drop=True).drop_duplicates()\n",
    "extended.to_csv('no_errors_appended.csv')"
   ]
  },
  {
   "cell_type": "markdown",
   "metadata": {},
   "source": [
    "## Testing Zone"
   ]
  },
  {
   "cell_type": "code",
   "execution_count": null,
   "metadata": {},
   "outputs": [],
   "source": [
    "url = 'https://projects.propublica.org/nonprofits/organizations/263405689'\n",
    "html = scrape_website(url)\n",
    "soup = BeautifulSoup(html.text)\n",
    "links = soup.find_all('a', class_='action xml')\n",
    "base_url = 'https://projects.propublica.org'\n",
    "urls = [base_url + x.get('href') for x in links if x.text == '990']"
   ]
  },
  {
   "cell_type": "code",
   "execution_count": null,
   "metadata": {},
   "outputs": [],
   "source": [
    "test = [x for x in soup.find_all(class_='action xml') if re.search(r'990\\b', x.text)]\n",
    "test2 = [base_url + x.get('href') if x.name == 'a' else base_url + x.select_one('select.action.xml option[data-href]').get('data-href') for x in test]"
   ]
  },
  {
   "cell_type": "code",
   "execution_count": null,
   "metadata": {},
   "outputs": [],
   "source": [
    "info990"
   ]
  },
  {
   "cell_type": "code",
   "execution_count": null,
   "metadata": {},
   "outputs": [],
   "source": [
    "extended = pd.concat([pd.read_csv('no_errors.csv'), no_error]).reset_index(drop=True).drop_duplicates()"
   ]
  },
  {
   "cell_type": "code",
   "execution_count": null,
   "metadata": {},
   "outputs": [],
   "source": [
    "extended.loc[:, 'EIN':'Total'] = extended.loc[:, 'EIN':'Total'].astype(int)"
   ]
  },
  {
   "cell_type": "code",
   "execution_count": null,
   "metadata": {},
   "outputs": [],
   "source": [
    "extended = extended.drop_duplicates()"
   ]
  },
  {
   "cell_type": "code",
   "execution_count": null,
   "metadata": {},
   "outputs": [],
   "source": [
    "info = pd.read_csv('no_errors.csv')"
   ]
  },
  {
   "cell_type": "code",
   "execution_count": null,
   "metadata": {},
   "outputs": [],
   "source": [
    "info = info.set_index('EIN_YEAR')\n",
    "# accurate = info[['Federate Campaigns', 'Membership Dues', 'Fundraising Events', 'Related Organizations', 'Government Grants', 'All Other Contributions']].sum(axis=1) == info['Total']"
   ]
  },
  {
   "cell_type": "code",
   "execution_count": null,
   "metadata": {},
   "outputs": [],
   "source": [
    "info"
   ]
  },
  {
   "cell_type": "code",
   "execution_count": null,
   "metadata": {},
   "outputs": [],
   "source": [
    "# tuple(accurate[~accurate].index)"
   ]
  },
  {
   "cell_type": "code",
   "execution_count": null,
   "metadata": {},
   "outputs": [],
   "source": [
    "info_EINerrs = find_errors(info)"
   ]
  },
  {
   "cell_type": "code",
   "execution_count": null,
   "metadata": {},
   "outputs": [],
   "source": [
    "info_errs = info[info.index.isin(info_EINerrs)]"
   ]
  },
  {
   "cell_type": "code",
   "execution_count": null,
   "metadata": {},
   "outputs": [],
   "source": [
    "info_errs = [int(err[:-7]) for (err) in info_EINerrs]\n",
    "info_errs"
   ]
  },
  {
   "cell_type": "code",
   "execution_count": null,
   "metadata": {
    "scrolled": true
   },
   "outputs": [],
   "source": [
    "filtered_info_errs = grabber(info_errs, errors=True)"
   ]
  },
  {
   "cell_type": "code",
   "execution_count": null,
   "metadata": {},
   "outputs": [],
   "source": [
    "info_no_errors = filtered_info_errs.dropna().reset_index(drop=True)\n",
    "info_no_errors.loc[:, 'EIN':'Total'] = info_no_errors.loc[:, 'EIN':'Total'].astype(int)\n",
    "info_no_errors.loc[:, 'EIN_YEAR'] = info_no_errors['EIN'].astype(str) + '_' + info_no_errors['Tax Year'].astype(str)\n",
    "info_no_errors = info_no_errors.set_index('EIN_YEAR')"
   ]
  },
  {
   "cell_type": "code",
   "execution_count": null,
   "metadata": {},
   "outputs": [],
   "source": [
    "info_no_errors.to_csv('info_no_errors.csv')\n",
    "EINinfoerrs = pd.read_csv('info_no_errors.csv')\n",
    "EINinfoerrs = EINinfoerrs.set_index('EIN_YEAR')"
   ]
  },
  {
   "cell_type": "code",
   "execution_count": null,
   "metadata": {},
   "outputs": [],
   "source": [
    "find_errors(EINinfoerrs)"
   ]
  },
  {
   "cell_type": "code",
   "execution_count": null,
   "metadata": {},
   "outputs": [],
   "source": [
    "EINinfoerrs.loc[['951874073_2015.0']]"
   ]
  },
  {
   "cell_type": "markdown",
   "metadata": {},
   "source": [
    "# Testing EINs from Manual Pull"
   ]
  },
  {
   "cell_type": "code",
   "execution_count": 71,
   "metadata": {},
   "outputs": [
    {
     "data": {
      "text/plain": [
       "[113723093,\n",
       " 237279074,\n",
       " 237334012,\n",
       " 261712580,\n",
       " 330006089,\n",
       " 330215585,\n",
       " 330317950,\n",
       " 330433314,\n",
       " 330492304,\n",
       " 330496092,\n",
       " 330623634,\n",
       " 331029843,\n",
       " 331146733,\n",
       " 465055513,\n",
       " 942358632,\n",
       " 951644024,\n",
       " 951869806,\n",
       " 951874073,\n",
       " 951944230,\n",
       " 952039198,\n",
       " 952157559,\n",
       " 952648050,\n",
       " 952653869,\n",
       " 952833205,\n",
       " 952850121,\n",
       " 952880426,\n",
       " 953244085,\n",
       " 953248148,\n",
       " 953302967,\n",
       " 953315571,\n",
       " 953649525,\n",
       " 956379598,\n",
       " 953497926,\n",
       " 953837714,\n",
       " 953140767,\n",
       " 951648184,\n",
       " 952693142,\n",
       " 330217339,\n",
       " 952794253,\n",
       " 951945256,\n",
       " 270865318,\n",
       " 821946283,\n",
       " 263405689,\n",
       " 330602842,\n",
       " 330902617,\n",
       " 952457354,\n",
       " 330008269,\n",
       " 953031682,\n",
       " 237161267,\n",
       " 330497515,\n",
       " 953750738,\n",
       " 953368020,\n",
       " 953798088,\n",
       " 952111196,\n",
       " 952949636,\n",
       " 330618893,\n",
       " 953782164,\n",
       " 272917644,\n",
       " 273390797,\n",
       " 931008369,\n",
       " 952213995,\n",
       " 562613191,\n",
       " 952422704,\n",
       " 941676390,\n",
       " 550806460,\n",
       " 330122462,\n",
       " 270447059,\n",
       " 330210280,\n",
       " 822363154,\n",
       " 953138268,\n",
       " 953950196,\n",
       " 952877102,\n",
       " 330553621,\n",
       " 204374795,\n",
       " 571214920,\n",
       " 571162424,\n",
       " 956379598,\n",
       " 330122462,\n",
       " 953782164,\n",
       " 953837714,\n",
       " 331029843,\n",
       " 330217339,\n",
       " 952880426,\n",
       " 953140767]"
      ]
     },
     "execution_count": 71,
     "metadata": {},
     "output_type": "execute_result"
    }
   ],
   "source": [
    "csvfile_eins = pd.read_csv('990 Manual Pull - Cleaned EIN List.csv')\n",
    "eins = list(csvfile_eins.get('EIN').dropna())\n",
    "eins = [int(ein) for ein in eins]\n",
    "eins"
   ]
  },
  {
   "cell_type": "code",
   "execution_count": null,
   "metadata": {},
   "outputs": [],
   "source": [
    "parsedEINs = grabber(eins)#, verbose=True)"
   ]
  },
  {
   "cell_type": "code",
   "execution_count": null,
   "metadata": {},
   "outputs": [],
   "source": [
    "no_errorsEIN = parsedEINs.dropna().reset_index(drop=True)\n",
    "no_errorsEIN.loc[:, 'EIN':'Total'] = no_errorsEIN.loc[:, 'EIN':'Total'].astype(int)\n",
    "no_errorsEIN.loc[:, 'EIN_YEAR'] = no_errorsEIN['EIN'].astype(str) + '_' + no_errorsEIN['Tax Year'].astype(str)\n",
    "no_errorsEIN = no_errorsEIN.set_index('EIN_YEAR')"
   ]
  },
  {
   "cell_type": "code",
   "execution_count": null,
   "metadata": {},
   "outputs": [],
   "source": [
    "no_errorsEIN.to_csv('no_errorsEIN.csv')"
   ]
  },
  {
   "cell_type": "code",
   "execution_count": 10,
   "metadata": {},
   "outputs": [],
   "source": [
    "EINinfo = pd.read_csv('no_errors.csv')"
   ]
  },
  {
   "cell_type": "code",
   "execution_count": 12,
   "metadata": {},
   "outputs": [
    {
     "data": {
      "text/plain": [
       "array([113723093, 237161267, 237279074, 237334012, 261712580, 263405689,\n",
       "       270447059, 270865318, 272917644, 273390797, 330006089, 330008269,\n",
       "       330122462, 330210280, 330215585, 330217339, 330317950, 330433314,\n",
       "       330492304, 330496092, 330497515, 330602842, 330618893, 330623634,\n",
       "       330902617, 331029843, 331146733, 465055513, 550806460, 562613191,\n",
       "       821946283, 822363154, 931008369, 941676390, 942358632, 951644024,\n",
       "       951648184, 951869806, 951874073, 951944230, 951945256, 952039198,\n",
       "       952111196, 952157559, 952213995, 952422704, 952457354, 952648050,\n",
       "       952653869, 952693142, 952794253, 952833205, 952850121, 952880426,\n",
       "       952949636, 953031682, 953138268, 953140767, 953244085, 953248148,\n",
       "       953302967, 953315571, 953368020, 953497926, 953649525, 953750738,\n",
       "       953782164, 953798088, 953837714, 953950196, 956379598], dtype=int64)"
      ]
     },
     "execution_count": 12,
     "metadata": {},
     "output_type": "execute_result"
    }
   ],
   "source": [
    "np.unique(EINinfo.get('EIN'))"
   ]
  },
  {
   "cell_type": "code",
   "execution_count": 26,
   "metadata": {},
   "outputs": [],
   "source": [
    "EINinfo = EINinfo.set_index('EIN_YEAR')"
   ]
  },
  {
   "cell_type": "code",
   "execution_count": 60,
   "metadata": {
    "scrolled": true
   },
   "outputs": [],
   "source": [
    "EIN_Year = EINinfo.groupby('Tax Year').sum().drop(labels = ['ba','EIN','Location (Zipcode)'], axis=1)\n",
    "EIN_Year.loc[2015.0, 'Fundraising Events'] -= 265175\n",
    "EIN_Year.to_csv('EIN_Year.csv')"
   ]
  },
  {
   "cell_type": "code",
   "execution_count": null,
   "metadata": {},
   "outputs": [],
   "source": [
    "EIN_errs = find_errors(EINinfo)\n",
    "EIN_errs"
   ]
  },
  {
   "cell_type": "markdown",
   "metadata": {},
   "source": [
    "#### Find errors, then prep data to double filter"
   ]
  },
  {
   "cell_type": "code",
   "execution_count": null,
   "metadata": {},
   "outputs": [],
   "source": [
    "errs1 =EINinfo[EINinfo.index.isin(EIN_errs)]"
   ]
  },
  {
   "cell_type": "code",
   "execution_count": null,
   "metadata": {},
   "outputs": [],
   "source": [
    "EINerrs = [int(err[:-7]) for err in EIN_errs]"
   ]
  },
  {
   "cell_type": "markdown",
   "metadata": {},
   "source": [
    "#### Double filter testing"
   ]
  },
  {
   "cell_type": "code",
   "execution_count": null,
   "metadata": {
    "scrolled": true
   },
   "outputs": [],
   "source": [
    "parsedErrEINs = grabber(EINerrs, errors=True)"
   ]
  },
  {
   "cell_type": "code",
   "execution_count": null,
   "metadata": {},
   "outputs": [],
   "source": [
    "no_errors2 = parsedErrEINs.dropna().reset_index(drop=True)\n",
    "no_errors2.loc[:, 'EIN':'Total'] = no_errors2.loc[:, 'EIN':'Total'].astype(int)\n",
    "no_errors2.loc[:, 'EIN_YEAR'] = no_errors2['EIN'].astype(str) + '_' + no_errors2['Tax Year'].astype(str)\n",
    "no_errors2 = no_errors2.set_index('EIN_YEAR')"
   ]
  },
  {
   "cell_type": "code",
   "execution_count": null,
   "metadata": {},
   "outputs": [],
   "source": [
    "no_errors2.to_csv('no_errors2.csv')"
   ]
  },
  {
   "cell_type": "code",
   "execution_count": 5,
   "metadata": {},
   "outputs": [],
   "source": [
    "EINErrinfo = pd.read_csv('no_errors2.csv')"
   ]
  },
  {
   "cell_type": "code",
   "execution_count": 9,
   "metadata": {},
   "outputs": [
    {
     "data": {
      "text/plain": [
       "array([263405689, 272917644, 331146733, 550806460, 951874073, 952039198,\n",
       "       953302967, 953368020, 953497926], dtype=int64)"
      ]
     },
     "execution_count": 9,
     "metadata": {},
     "output_type": "execute_result"
    }
   ],
   "source": [
    "np.unique(EINErrinfo.get('EIN'))"
   ]
  },
  {
   "cell_type": "code",
   "execution_count": null,
   "metadata": {},
   "outputs": [],
   "source": [
    "EINErrinfo = EINErrinfo.set_index('EIN_YEAR')"
   ]
  },
  {
   "cell_type": "code",
   "execution_count": null,
   "metadata": {},
   "outputs": [],
   "source": [
    "EINErr_errs = find_errors(EINErrinfo)\n",
    "EINErr_errs"
   ]
  },
  {
   "cell_type": "code",
   "execution_count": null,
   "metadata": {},
   "outputs": [],
   "source": [
    "errs2 = EINErrinfo[EINErrinfo.index.isin(EINErr_errs)]"
   ]
  },
  {
   "cell_type": "code",
   "execution_count": null,
   "metadata": {},
   "outputs": [],
   "source": [
    "[err for err in EINErr_errs if err in EIN_errs]"
   ]
  },
  {
   "cell_type": "code",
   "execution_count": null,
   "metadata": {
    "scrolled": true
   },
   "outputs": [],
   "source": [
    "pd.merge(errs1, errs2, how='inner')"
   ]
  },
  {
   "cell_type": "code",
   "execution_count": null,
   "metadata": {},
   "outputs": [],
   "source": [
    "get_xmls(951874073)"
   ]
  },
  {
   "cell_type": "code",
   "execution_count": 3,
   "metadata": {},
   "outputs": [],
   "source": [
    "einyearcsv = pd.read_csv('EIN_Year.csv')"
   ]
  },
  {
   "cell_type": "code",
   "execution_count": 4,
   "metadata": {},
   "outputs": [
    {
     "data": {
      "text/html": [
       "<div>\n",
       "<style scoped>\n",
       "    .dataframe tbody tr th:only-of-type {\n",
       "        vertical-align: middle;\n",
       "    }\n",
       "\n",
       "    .dataframe tbody tr th {\n",
       "        vertical-align: top;\n",
       "    }\n",
       "\n",
       "    .dataframe thead th {\n",
       "        text-align: right;\n",
       "    }\n",
       "</style>\n",
       "<table border=\"1\" class=\"dataframe\">\n",
       "  <thead>\n",
       "    <tr style=\"text-align: right;\">\n",
       "      <th></th>\n",
       "      <th>Tax Year</th>\n",
       "      <th>Federate Campaigns</th>\n",
       "      <th>Membership Dues</th>\n",
       "      <th>Fundraising Events</th>\n",
       "      <th>Related Organizations</th>\n",
       "      <th>Government Grants</th>\n",
       "      <th>All Other Contributions</th>\n",
       "      <th>Noncash Contributions</th>\n",
       "      <th>Total</th>\n",
       "    </tr>\n",
       "  </thead>\n",
       "  <tbody>\n",
       "    <tr>\n",
       "      <th>0</th>\n",
       "      <td>2013.0</td>\n",
       "      <td>14812168</td>\n",
       "      <td>5931</td>\n",
       "      <td>2926753</td>\n",
       "      <td>1992567</td>\n",
       "      <td>272916322</td>\n",
       "      <td>82768266</td>\n",
       "      <td>26026065</td>\n",
       "      <td>398097644</td>\n",
       "    </tr>\n",
       "    <tr>\n",
       "      <th>1</th>\n",
       "      <td>2014.0</td>\n",
       "      <td>14690906</td>\n",
       "      <td>10503</td>\n",
       "      <td>3451517</td>\n",
       "      <td>1718545</td>\n",
       "      <td>436176976</td>\n",
       "      <td>85800212</td>\n",
       "      <td>18083102</td>\n",
       "      <td>541848659</td>\n",
       "    </tr>\n",
       "    <tr>\n",
       "      <th>2</th>\n",
       "      <td>2015.0</td>\n",
       "      <td>13449748</td>\n",
       "      <td>760</td>\n",
       "      <td>3621489</td>\n",
       "      <td>1151289</td>\n",
       "      <td>490880029</td>\n",
       "      <td>91616746</td>\n",
       "      <td>17711150</td>\n",
       "      <td>600733501</td>\n",
       "    </tr>\n",
       "    <tr>\n",
       "      <th>3</th>\n",
       "      <td>2016.0</td>\n",
       "      <td>12270921</td>\n",
       "      <td>11824</td>\n",
       "      <td>3270531</td>\n",
       "      <td>2928524</td>\n",
       "      <td>511590186</td>\n",
       "      <td>104729345</td>\n",
       "      <td>23099826</td>\n",
       "      <td>634806291</td>\n",
       "    </tr>\n",
       "    <tr>\n",
       "      <th>4</th>\n",
       "      <td>2017.0</td>\n",
       "      <td>8149406</td>\n",
       "      <td>4925</td>\n",
       "      <td>3523143</td>\n",
       "      <td>2951688</td>\n",
       "      <td>578384972</td>\n",
       "      <td>112406307</td>\n",
       "      <td>24512047</td>\n",
       "      <td>705427271</td>\n",
       "    </tr>\n",
       "    <tr>\n",
       "      <th>5</th>\n",
       "      <td>2018.0</td>\n",
       "      <td>7121111</td>\n",
       "      <td>9375</td>\n",
       "      <td>5954813</td>\n",
       "      <td>2737085</td>\n",
       "      <td>662322346</td>\n",
       "      <td>118763690</td>\n",
       "      <td>23556060</td>\n",
       "      <td>796908420</td>\n",
       "    </tr>\n",
       "    <tr>\n",
       "      <th>6</th>\n",
       "      <td>2019.0</td>\n",
       "      <td>6651291</td>\n",
       "      <td>9365</td>\n",
       "      <td>5077165</td>\n",
       "      <td>6065219</td>\n",
       "      <td>816941379</td>\n",
       "      <td>147143289</td>\n",
       "      <td>24199956</td>\n",
       "      <td>981887708</td>\n",
       "    </tr>\n",
       "    <tr>\n",
       "      <th>7</th>\n",
       "      <td>2020.0</td>\n",
       "      <td>5730305</td>\n",
       "      <td>5050</td>\n",
       "      <td>5559680</td>\n",
       "      <td>11438182</td>\n",
       "      <td>997288792</td>\n",
       "      <td>168776475</td>\n",
       "      <td>30818037</td>\n",
       "      <td>1188337484</td>\n",
       "    </tr>\n",
       "    <tr>\n",
       "      <th>8</th>\n",
       "      <td>2021.0</td>\n",
       "      <td>4795227</td>\n",
       "      <td>0</td>\n",
       "      <td>7371420</td>\n",
       "      <td>1437925</td>\n",
       "      <td>923315284</td>\n",
       "      <td>131650133</td>\n",
       "      <td>33697316</td>\n",
       "      <td>1068569989</td>\n",
       "    </tr>\n",
       "    <tr>\n",
       "      <th>9</th>\n",
       "      <td>2022.0</td>\n",
       "      <td>0</td>\n",
       "      <td>0</td>\n",
       "      <td>279486</td>\n",
       "      <td>0</td>\n",
       "      <td>505011</td>\n",
       "      <td>7923835</td>\n",
       "      <td>19922</td>\n",
       "      <td>8716739</td>\n",
       "    </tr>\n",
       "  </tbody>\n",
       "</table>\n",
       "</div>"
      ],
      "text/plain": [
       "   Tax Year  Federate Campaigns  Membership Dues  Fundraising Events  \\\n",
       "0    2013.0            14812168             5931             2926753   \n",
       "1    2014.0            14690906            10503             3451517   \n",
       "2    2015.0            13449748              760             3621489   \n",
       "3    2016.0            12270921            11824             3270531   \n",
       "4    2017.0             8149406             4925             3523143   \n",
       "5    2018.0             7121111             9375             5954813   \n",
       "6    2019.0             6651291             9365             5077165   \n",
       "7    2020.0             5730305             5050             5559680   \n",
       "8    2021.0             4795227                0             7371420   \n",
       "9    2022.0                   0                0              279486   \n",
       "\n",
       "   Related Organizations  Government Grants  All Other Contributions  \\\n",
       "0                1992567          272916322                 82768266   \n",
       "1                1718545          436176976                 85800212   \n",
       "2                1151289          490880029                 91616746   \n",
       "3                2928524          511590186                104729345   \n",
       "4                2951688          578384972                112406307   \n",
       "5                2737085          662322346                118763690   \n",
       "6                6065219          816941379                147143289   \n",
       "7               11438182          997288792                168776475   \n",
       "8                1437925          923315284                131650133   \n",
       "9                      0             505011                  7923835   \n",
       "\n",
       "   Noncash Contributions       Total  \n",
       "0               26026065   398097644  \n",
       "1               18083102   541848659  \n",
       "2               17711150   600733501  \n",
       "3               23099826   634806291  \n",
       "4               24512047   705427271  \n",
       "5               23556060   796908420  \n",
       "6               24199956   981887708  \n",
       "7               30818037  1188337484  \n",
       "8               33697316  1068569989  \n",
       "9                  19922     8716739  "
      ]
     },
     "execution_count": 4,
     "metadata": {},
     "output_type": "execute_result"
    }
   ],
   "source": [
    "einyearcsv"
   ]
  },
  {
   "cell_type": "code",
   "execution_count": 70,
   "metadata": {},
   "outputs": [
    {
     "data": {
      "text/plain": [
       "84"
      ]
     },
     "execution_count": 70,
     "metadata": {},
     "output_type": "execute_result"
    }
   ],
   "source": [
    "result = [ein for ein in eins if ein not in ein_numbers]"
   ]
  },
  {
   "cell_type": "code",
   "execution_count": null,
   "metadata": {},
   "outputs": [],
   "source": []
  }
 ],
 "metadata": {
  "kernelspec": {
   "display_name": "Python 3 (ipykernel)",
   "language": "python",
   "name": "python3"
  },
  "language_info": {
   "codemirror_mode": {
    "name": "ipython",
    "version": 3
   },
   "file_extension": ".py",
   "mimetype": "text/x-python",
   "name": "python",
   "nbconvert_exporter": "python",
   "pygments_lexer": "ipython3",
   "version": "3.11.4"
  }
 },
 "nbformat": 4,
 "nbformat_minor": 2
}
